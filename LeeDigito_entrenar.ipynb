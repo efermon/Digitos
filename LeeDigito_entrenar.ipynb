{
 "cells": [
  {
   "cell_type": "code",
   "execution_count": 1,
   "id": "0b265fc9-322b-4549-abcd-32389b34401c",
   "metadata": {
    "executionInfo": {
     "elapsed": 7750,
     "status": "ok",
     "timestamp": 1684227273129,
     "user": {
      "displayName": "Emilio Ferrera Montero",
      "userId": "10560743374201542256"
     },
     "user_tz": -120
    },
    "id": "zhJKRb2EkHDn",
    "tags": []
   },
   "outputs": [],
   "source": [
    "from fastai.vision.all import *"
   ]
  },
  {
   "cell_type": "code",
   "execution_count": 2,
   "id": "ed108285-07d9-4779-8f9d-b3b5c6e402b1",
   "metadata": {
    "colab": {
     "base_uri": "https://localhost:8080/",
     "height": 37
    },
    "executionInfo": {
     "elapsed": 18844,
     "status": "ok",
     "timestamp": 1684227294722,
     "user": {
      "displayName": "Emilio Ferrera Montero",
      "userId": "10560743374201542256"
     },
     "user_tz": -120
    },
    "id": "n0b39AZykUQ1",
    "outputId": "7713ab05-ab9a-4db6-83cc-3ebbde8ce298",
    "tags": []
   },
   "outputs": [],
   "source": [
    "path = untar_data(URLs.MNIST)"
   ]
  },
  {
   "cell_type": "code",
   "execution_count": 3,
   "id": "147aeaa3-22b3-4d74-aa04-f32434d2d833",
   "metadata": {
    "executionInfo": {
     "elapsed": 221,
     "status": "ok",
     "timestamp": 1684227304118,
     "user": {
      "displayName": "Emilio Ferrera Montero",
      "userId": "10560743374201542256"
     },
     "user_tz": -120
    },
    "id": "duZ2COXbc5Lf",
    "tags": []
   },
   "outputs": [],
   "source": [
    "mnist = DataBlock(blocks=(ImageBlock(cls=PILImageBW), CategoryBlock), \n",
    "        get_items=get_image_files,\n",
    "        splitter=GrandparentSplitter(train_name='training', valid_name='testing'),\n",
    "        get_y=parent_label)      "
   ]
  },
  {
   "cell_type": "code",
   "execution_count": 4,
   "id": "c7fd77cf-80e6-40b6-8b22-de29ecfac4c4",
   "metadata": {
    "executionInfo": {
     "elapsed": 10678,
     "status": "ok",
     "timestamp": 1684227317102,
     "user": {
      "displayName": "Emilio Ferrera Montero",
      "userId": "10560743374201542256"
     },
     "user_tz": -120
    },
    "id": "TvglsRmKc-PT",
    "tags": []
   },
   "outputs": [],
   "source": [
    "dls = mnist.dataloaders(path)"
   ]
  },
  {
   "cell_type": "code",
   "execution_count": 5,
   "id": "15ab1d2f-e5ba-4176-941f-b46a53be1def",
   "metadata": {
    "id": "jjD5X4ZeroOK",
    "tags": []
   },
   "outputs": [],
   "source": [
    "simple_net = nn.Sequential(\n",
    "    Flatten(),\n",
    "    nn.Linear(28*28,60),\n",
    "    nn.ReLU(),\n",
    "    nn.Linear(60,10)   \n",
    ")"
   ]
  },
  {
   "cell_type": "code",
   "execution_count": 6,
   "id": "f39c64df-dcc8-431e-942d-f2b9ac52dd5d",
   "metadata": {
    "colab": {
     "base_uri": "https://localhost:8080/",
     "height": 170
    },
    "executionInfo": {
     "elapsed": 210298,
     "status": "ok",
     "timestamp": 1683103603642,
     "user": {
      "displayName": "Emilio Ferrera Montero",
      "userId": "10560743374201542256"
     },
     "user_tz": -120
    },
    "id": "E-6E5-O7roOL",
    "outputId": "a02c3898-51ce-4d09-9964-47a261906dd1",
    "tags": []
   },
   "outputs": [
    {
     "name": "stderr",
     "output_type": "stream",
     "text": [
      "/home/emilio/mambaforge/lib/python3.10/site-packages/torchvision/models/_utils.py:208: UserWarning: The parameter 'pretrained' is deprecated since 0.13 and may be removed in the future, please use 'weights' instead.\n",
      "  warnings.warn(\n",
      "/home/emilio/mambaforge/lib/python3.10/site-packages/torchvision/models/_utils.py:223: UserWarning: Arguments other than a weight enum or `None` for 'weights' are deprecated since 0.13 and may be removed in the future. The current behavior is equivalent to passing `weights=ResNet18_Weights.IMAGENET1K_V1`. You can also use `weights=ResNet18_Weights.DEFAULT` to get the most up-to-date weights.\n",
      "  warnings.warn(msg)\n"
     ]
    }
   ],
   "source": [
    "learn2 = vision_learner(dls, resnet18, metrics=accuracy)"
   ]
  },
  {
   "cell_type": "code",
   "execution_count": 7,
   "id": "3e6ed9b4-431d-4bf5-9f44-8ff3cc460728",
   "metadata": {
    "tags": []
   },
   "outputs": [
    {
     "data": {
      "text/html": [
       "\n",
       "<style>\n",
       "    /* Turns off some styling */\n",
       "    progress {\n",
       "        /* gets rid of default border in Firefox and Opera. */\n",
       "        border: none;\n",
       "        /* Needs to be in here for Safari polyfill so background images work as expected. */\n",
       "        background-size: auto;\n",
       "    }\n",
       "    progress:not([value]), progress:not([value])::-webkit-progress-bar {\n",
       "        background: repeating-linear-gradient(45deg, #7e7e7e, #7e7e7e 10px, #5c5c5c 10px, #5c5c5c 20px);\n",
       "    }\n",
       "    .progress-bar-interrupted, .progress-bar-interrupted::-webkit-progress-bar {\n",
       "        background: #F44336;\n",
       "    }\n",
       "</style>\n"
      ],
      "text/plain": [
       "<IPython.core.display.HTML object>"
      ]
     },
     "metadata": {},
     "output_type": "display_data"
    },
    {
     "data": {
      "text/html": [
       "<table border=\"1\" class=\"dataframe\">\n",
       "  <thead>\n",
       "    <tr style=\"text-align: left;\">\n",
       "      <th>epoch</th>\n",
       "      <th>train_loss</th>\n",
       "      <th>valid_loss</th>\n",
       "      <th>accuracy</th>\n",
       "      <th>time</th>\n",
       "    </tr>\n",
       "  </thead>\n",
       "  <tbody>\n",
       "    <tr>\n",
       "      <td>0</td>\n",
       "      <td>0.720914</td>\n",
       "      <td>0.461665</td>\n",
       "      <td>0.852500</td>\n",
       "      <td>05:04</td>\n",
       "    </tr>\n",
       "  </tbody>\n",
       "</table>"
      ],
      "text/plain": [
       "<IPython.core.display.HTML object>"
      ]
     },
     "metadata": {},
     "output_type": "display_data"
    },
    {
     "data": {
      "text/html": [
       "\n",
       "<style>\n",
       "    /* Turns off some styling */\n",
       "    progress {\n",
       "        /* gets rid of default border in Firefox and Opera. */\n",
       "        border: none;\n",
       "        /* Needs to be in here for Safari polyfill so background images work as expected. */\n",
       "        background-size: auto;\n",
       "    }\n",
       "    progress:not([value]), progress:not([value])::-webkit-progress-bar {\n",
       "        background: repeating-linear-gradient(45deg, #7e7e7e, #7e7e7e 10px, #5c5c5c 10px, #5c5c5c 20px);\n",
       "    }\n",
       "    .progress-bar-interrupted, .progress-bar-interrupted::-webkit-progress-bar {\n",
       "        background: #F44336;\n",
       "    }\n",
       "</style>\n"
      ],
      "text/plain": [
       "<IPython.core.display.HTML object>"
      ]
     },
     "metadata": {},
     "output_type": "display_data"
    },
    {
     "data": {
      "text/html": [
       "<table border=\"1\" class=\"dataframe\">\n",
       "  <thead>\n",
       "    <tr style=\"text-align: left;\">\n",
       "      <th>epoch</th>\n",
       "      <th>train_loss</th>\n",
       "      <th>valid_loss</th>\n",
       "      <th>accuracy</th>\n",
       "      <th>time</th>\n",
       "    </tr>\n",
       "  </thead>\n",
       "  <tbody>\n",
       "    <tr>\n",
       "      <td>0</td>\n",
       "      <td>0.130344</td>\n",
       "      <td>0.073246</td>\n",
       "      <td>0.976900</td>\n",
       "      <td>06:13</td>\n",
       "    </tr>\n",
       "    <tr>\n",
       "      <td>1</td>\n",
       "      <td>0.067780</td>\n",
       "      <td>0.040290</td>\n",
       "      <td>0.987000</td>\n",
       "      <td>06:23</td>\n",
       "    </tr>\n",
       "    <tr>\n",
       "      <td>2</td>\n",
       "      <td>0.034133</td>\n",
       "      <td>0.028146</td>\n",
       "      <td>0.990400</td>\n",
       "      <td>06:22</td>\n",
       "    </tr>\n",
       "  </tbody>\n",
       "</table>"
      ],
      "text/plain": [
       "<IPython.core.display.HTML object>"
      ]
     },
     "metadata": {},
     "output_type": "display_data"
    }
   ],
   "source": [
    "learn2.fine_tune(3)"
   ]
  },
  {
   "cell_type": "code",
   "execution_count": 8,
   "id": "39c209a4-faa5-4b47-b503-11cb757d0a37",
   "metadata": {
    "tags": []
   },
   "outputs": [],
   "source": [
    "learn2.export('modelo_resnet.pkl')"
   ]
  },
  {
   "cell_type": "code",
   "execution_count": null,
   "id": "56ee77ae-fb29-4f31-bdd7-d14878e9c0b5",
   "metadata": {},
   "outputs": [],
   "source": []
  }
 ],
 "metadata": {
  "kernelspec": {
   "display_name": "Python 3 (ipykernel)",
   "language": "python",
   "name": "python3"
  },
  "language_info": {
   "codemirror_mode": {
    "name": "ipython",
    "version": 3
   },
   "file_extension": ".py",
   "mimetype": "text/x-python",
   "name": "python",
   "nbconvert_exporter": "python",
   "pygments_lexer": "ipython3",
   "version": "3.10.8"
  }
 },
 "nbformat": 4,
 "nbformat_minor": 5
}
